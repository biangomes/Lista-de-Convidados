{
 "cells": [
  {
   "cell_type": "markdown",
   "metadata": {},
   "source": [
    "## Lista convidados"
   ]
  },
  {
   "cell_type": "code",
   "execution_count": 1,
   "metadata": {},
   "outputs": [
    {
     "name": "stdout",
     "output_type": "stream",
     "text": [
      "Número de convidados: 2\n",
      "Nome: Ana\n",
      "Idade: 26\n",
      "Nome: Beatriz\n",
      "Idade: 19\n",
      "---- LISTA DE CONVIDADOS ----\n",
      "Nome: Ana\n",
      "Desculpe, mas você não está na lista de convidados!\n",
      "Nome: Beatriz\n",
      "Seja bem-vindo(a). Aproveite!\n",
      "Nome: Pedro\n",
      "Desculpe, mas você não está na lista de convidados!\n"
     ]
    }
   ],
   "source": [
    "# Criamos 3 listas vazias para receber o nome dos convidados da lista\n",
    "# A idade de cada um\n",
    "# E a lista nome_lista serve para verificar se o nome inserido pelo usuario coincide com algum nome armazenado na lista nome.\n",
    "nome = []\n",
    "idade = []\n",
    "nome_lista = []\n",
    "# Pedimos a quantidade de convidados da lista para limitar o nosso laço for\n",
    "qtd_convidados = int(input(\"Número de convidados: \"))\n",
    "\n",
    "# Pegando os nomes dos convidados para colocar na lista\n",
    "for i in range(qtd_convidados):\n",
    "    nome = input(\"Nome: \")\n",
    "    idade = int(input(\"Idade: \"))\n",
    "    \n",
    "    # Verificando se a idade é menor que 18 anos, pois se for, entrada proibida!!!\n",
    "    if idade < 18:\n",
    "        print(\"Desculpe, você não está autorizado a entrar!\")\n",
    "        \n",
    "print(\"-\"*4, \"LISTA DE CONVIDADOS\", \"-\"*4)\n",
    "\n",
    "# Aqui é o laço em que verificamos se o nome do usuário consta na lista!\n",
    "for j in range(3):\n",
    "    nomeLista = input(\"Nome: \")\n",
    "    if nomeLista != nome:\n",
    "        print(\"Desculpe, mas você não está na lista de convidados!\")\n",
    "    else:\n",
    "        print(\"Seja bem-vindo(a). Aproveite!\")"
   ]
  },
  {
   "cell_type": "code",
   "execution_count": null,
   "metadata": {},
   "outputs": [],
   "source": []
  }
 ],
 "metadata": {
  "kernelspec": {
   "display_name": "Python 3",
   "language": "python",
   "name": "python3"
  },
  "language_info": {
   "codemirror_mode": {
    "name": "ipython",
    "version": 3
   },
   "file_extension": ".py",
   "mimetype": "text/x-python",
   "name": "python",
   "nbconvert_exporter": "python",
   "pygments_lexer": "ipython3",
   "version": "3.7.6"
  }
 },
 "nbformat": 4,
 "nbformat_minor": 4
}
